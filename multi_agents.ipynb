{
 "cells": [
  {
   "cell_type": "code",
   "execution_count": 1,
   "id": "e2d75092",
   "metadata": {},
   "outputs": [
    {
     "name": "stdout",
     "output_type": "stream",
     "text": [
      "API Key loaded?  True\n"
     ]
    }
   ],
   "source": [
    "# Step 1: Import libraries\n",
    "import os\n",
    "from dotenv import load_dotenv\n",
    "\n",
    "# Step 2: Load .env file\n",
    "load_dotenv()\n",
    "\n",
    "# Step 3: Fetch the API key\n",
    "openai_key = os.getenv(\"OPENAI_API_KEY\")\n",
    "\n",
    "# Step 4: Print to confirm\n",
    "print(\"API Key loaded? \", bool(openai_key))\n"
   ]
  },
  {
   "cell_type": "code",
   "execution_count": 3,
   "id": "fae16bf9",
   "metadata": {},
   "outputs": [],
   "source": [
    "import re   # re = regular expressions (used for pattern matching)\n",
    "\n",
    "def safe_calculator(expression: str) -> str:\n",
    "    \"\"\"\n",
    "    A tiny safe calculator for +, -, *, /, ()\n",
    "    Example: \"879*11\" -> \"9669\"\n",
    "    \"\"\"\n",
    "    # Step 1: Check if expression only has digits, spaces, and math symbols\n",
    "    if not re.fullmatch(r\"[0-9\\.\\+\\-\\*\\/\\(\\)\\s]+\", expression):\n",
    "        return \"Invalid expression. Allowed: digits and + - * / ( )\"\n",
    "    \n",
    "    try:\n",
    "        # Step 2: Evaluate math safely (disable Python builtins)\n",
    "        result = eval(expression, {\"__builtins__\": {}}, {})\n",
    "        return str(result)  # convert result into a string\n",
    "    except Exception as e:\n",
    "        # Step 3: If error occurs (like bad input), show it\n",
    "        return f\"Error: {e}\"\n"
   ]
  },
  {
   "cell_type": "code",
   "execution_count": null,
   "id": "45f16353",
   "metadata": {},
   "outputs": [
    {
     "name": "stdout",
     "output_type": "stream",
     "text": [
      "9669\n",
      "25.0\n",
      "Invalid expression. Allowed: digits and + - * / ( )\n"
     ]
    }
   ],
   "source": [
    "print(safe_calculator(\"879*111\"))      # should return \"9669\"\n",
    "print(safe_calculator(\"(100+25)/5\"))  # should return \"25.0\"\n",
    "print(safe_calculator(\"abc+1\"))       # should say \"Invalid expression\"\n"
   ]
  },
  {
   "cell_type": "code",
   "execution_count": 15,
   "id": "c8b4575d",
   "metadata": {},
   "outputs": [],
   "source": [
    "def translate_text(text: str, target_language: str = \"Hindi\") -> str:\n",
    "    \"\"\"\n",
    "    Translate text into the target language using OpenAI.\n",
    "    \"\"\"\n",
    "    system = SystemMessage(content=\"You are a precise translator. Only return the translation.\")\n",
    "    human = HumanMessage(content=f\"Translate to {target_language}: {text}\")\n",
    "    response = translator_llm.invoke([system, human])\n",
    "    return response.content.strip()\n"
   ]
  },
  {
   "cell_type": "code",
   "execution_count": 16,
   "id": "7c402c47",
   "metadata": {},
   "outputs": [
    {
     "name": "stdout",
     "output_type": "stream",
     "text": [
      "सुप्रभात, टीम\n",
      "आप कैसे हैं?\n",
      "Hello friends\n"
     ]
    }
   ],
   "source": [
    "print(translate_text(\"Good morning, team\", \"Hindi\"))\n",
    "print(translate_text(\"How are you?\", \"Hindi\"))\n",
    "print(translate_text(\"नमस्ते दोस्तों\", \"English\"))\n"
   ]
  },
  {
   "cell_type": "code",
   "execution_count": 10,
   "id": "2c4d2cc6",
   "metadata": {},
   "outputs": [
    {
     "name": "stdout",
     "output_type": "stream",
     "text": [
      "सुप्रभात, टीम\n",
      "आप कैसे हैं?\n",
      "Hello friends\n"
     ]
    }
   ],
   "source": [
    "print(translate_text(\"Good morning, team\", \"Hindi\"))\n",
    "print(translate_text(\"How are you?\", \"Hindi\"))\n",
    "print(translate_text(\"नमस्ते दोस्तों\", \"English\"))\n"
   ]
  },
  {
   "cell_type": "code",
   "execution_count": 11,
   "id": "cef60d21",
   "metadata": {},
   "outputs": [],
   "source": [
    "import os\n",
    "from langchain_openai import ChatOpenAI\n",
    "from langchain_core.messages import SystemMessage, HumanMessage\n",
    "\n",
    "# Use a reasoning-friendly model for planning (pass API key explicitly)\n",
    "planner_llm = ChatOpenAI(\n",
    "    model=\"gpt-4.1\",        # you can also try \"gpt-4o-mini\" for cheaper tests\n",
    "    temperature=0,\n",
    "    api_key=os.getenv(\"OPENAI_API_KEY\")\n",
    ")\n"
   ]
  },
  {
   "cell_type": "code",
   "execution_count": 12,
   "id": "80da707c",
   "metadata": {},
   "outputs": [],
   "source": [
    "SUPERVISOR_SYSTEM = SystemMessage(content=\n",
    "    \"You are a planner that breaks a user's request into a JSON 'plan'. \"\n",
    "    \"Allowed steps:\\n\"\n",
    "    \"1) calculate: needs {expression}\\n\"\n",
    "    \"2) translate: needs {text, target_language}\\n\\n\"\n",
    "    \"Rules:\\n\"\n",
    "    \"- Output ONLY valid JSON with a top-level key 'plan' (list of steps).\\n\"\n",
    "    \"- No explanations. JSON only.\\n\"\n",
    "    \"- If a step needs the previous step's result, set text to '$LAST_RESULT'.\\n\"\n",
    "    \"- Keep the plan minimal and sufficient.\"\n",
    ")\n"
   ]
  },
  {
   "cell_type": "code",
   "execution_count": 13,
   "id": "906f04ec",
   "metadata": {},
   "outputs": [],
   "source": [
    "import json\n",
    "import re\n",
    "\n",
    "def make_plan(user_input: str) -> dict:\n",
    "    \"\"\"\n",
    "    Ask the planner LLM to output a JSON plan.\n",
    "    If JSON parsing fails, use a safe fallback plan.\n",
    "    \"\"\"\n",
    "    # Give the model 2 simple examples to anchor the format\n",
    "    examples = (\n",
    "        \"Example 1: '879*11'\\n\"\n",
    "        '{\"plan\":[{\"step\":\"calculate\",\"expression\":\"879*11\"}]}\\n\\n'\n",
    "        \"Example 2: 'Translate the answer of 879*11 to Hindi'\\n\"\n",
    "        '{\"plan\":[{\"step\":\"calculate\",\"expression\":\"879*11\"},'\n",
    "        '{\"step\":\"translate\",\"text\":\"$LAST_RESULT\",\"target_language\":\"Hindi\"}]}'\n",
    "    )\n",
    "\n",
    "    # Build the user message\n",
    "    msg = HumanMessage(content=f\"{examples}\\n\\nUser request: {user_input}\\nReturn JSON only.\")\n",
    "\n",
    "    # Ask the planner\n",
    "    resp = planner_llm.invoke([SUPERVISOR_SYSTEM, msg])\n",
    "\n",
    "    # Full raw text (should be JSON)\n",
    "    raw = resp.content.strip()\n",
    "    print(\"DEBUG - Raw planner output:\\n\", raw)  # helpful while learning\n",
    "\n",
    "    # Try to parse JSON\n",
    "    try:\n",
    "        plan = json.loads(raw)\n",
    "        # minimal sanity check\n",
    "        if isinstance(plan, dict) and \"plan\" in plan and isinstance(plan[\"plan\"], list):\n",
    "            return plan\n",
    "    except json.JSONDecodeError:\n",
    "        pass\n",
    "\n",
    "    # Fallback so notebook never crashes\n",
    "    has_math = bool(re.search(r\"[0-9]\\s*[\\+\\-\\*\\/\\)]|[\\(]\\s*[0-9]\", user_input))\n",
    "    wants_translate = \"translate\" in user_input.lower()\n",
    "    if has_math and wants_translate:\n",
    "        return {\"plan\":[\n",
    "            {\"step\":\"calculate\",\"expression\":user_input},\n",
    "            {\"step\":\"translate\",\"text\":\"$LAST_RESULT\",\"target_language\":\"Hindi\"}\n",
    "        ]}\n",
    "    elif has_math:\n",
    "        return {\"plan\":[{\"step\":\"calculate\",\"expression\":user_input}]}\n",
    "    elif wants_translate:\n",
    "        return {\"plan\":[{\"step\":\"translate\",\"text\":user_input,\"target_language\":\"Hindi\"}]}\n",
    "    else:\n",
    "        # with only two agents, default to translate whole input to Hindi\n",
    "        return {\"plan\":[{\"step\":\"translate\",\"text\":user_input,\"target_language\":\"Hindi\"}]}\n",
    "\n",
    "def run_plan(user_input: str) -> str:\n",
    "    \"\"\"\n",
    "    1) Get a JSON plan via make_plan(...)\n",
    "    2) Execute each step in order (calculate / translate)\n",
    "    3) Return the final output\n",
    "    \"\"\"\n",
    "    plan = make_plan(user_input)\n",
    "    print(\"\\nDEBUG - Parsed plan:\")\n",
    "    print(json.dumps(plan, indent=2))\n",
    "\n",
    "    last_result = None\n",
    "\n",
    "    for i, step in enumerate(plan.get(\"plan\", []), start=1):\n",
    "        action = step.get(\"step\", \"\")\n",
    "\n",
    "        if action == \"calculate\":\n",
    "            expr = step.get(\"expression\", \"\")\n",
    "            print(f\"\\nSTEP {i}: CALCULATE  -> {expr}\")\n",
    "            last_result = safe_calculator(expr)\n",
    "            print(\"Result:\", last_result)\n",
    "\n",
    "        elif action == \"translate\":\n",
    "            text = step.get(\"text\", \"\")\n",
    "            if text == \"$LAST_RESULT\":\n",
    "                text = last_result or \"\"\n",
    "            lang = step.get(\"target_language\", \"Hindi\")\n",
    "            print(f\"\\nSTEP {i}: TRANSLATE -> '{text}' to {lang}\")\n",
    "            last_result = translate_text(text, lang)\n",
    "            print(\"Translation:\", last_result)\n",
    "\n",
    "        else:\n",
    "            print(f\"\\nSTEP {i}: Unknown step:\", action)\n",
    "            last_result = \"Unknown step produced by planner.\"\n",
    "\n",
    "    print(\"\\nFINAL:\", last_result)\n",
    "    return last_result or \"\"\n"
   ]
  },
  {
   "cell_type": "code",
   "execution_count": 14,
   "id": "52393136",
   "metadata": {},
   "outputs": [
    {
     "name": "stdout",
     "output_type": "stream",
     "text": [
      "\n",
      "--- Test 1: Pure Math ---\n",
      "DEBUG - Raw planner output:\n",
      " {\"plan\":[{\"step\":\"calculate\",\"expression\":\"879*11\"}]}\n",
      "\n",
      "DEBUG - Parsed plan:\n",
      "{\n",
      "  \"plan\": [\n",
      "    {\n",
      "      \"step\": \"calculate\",\n",
      "      \"expression\": \"879*11\"\n",
      "    }\n",
      "  ]\n",
      "}\n",
      "\n",
      "STEP 1: CALCULATE  -> 879*11\n",
      "Result: 9669\n",
      "\n",
      "FINAL: 9669\n",
      "\n",
      "--- Test 2: Translate only ---\n",
      "DEBUG - Raw planner output:\n",
      " {\"plan\":[{\"step\":\"translate\",\"text\":\"Good morning, team\",\"target_language\":\"Hindi\"}]}\n",
      "\n",
      "DEBUG - Parsed plan:\n",
      "{\n",
      "  \"plan\": [\n",
      "    {\n",
      "      \"step\": \"translate\",\n",
      "      \"text\": \"Good morning, team\",\n",
      "      \"target_language\": \"Hindi\"\n",
      "    }\n",
      "  ]\n",
      "}\n",
      "\n",
      "STEP 1: TRANSLATE -> 'Good morning, team' to Hindi\n",
      "Translation: सुप्रभात, टीम\n",
      "\n",
      "FINAL: सुप्रभात, टीम\n",
      "\n",
      "--- Test 3: Combined (calculate → translate) ---\n",
      "DEBUG - Raw planner output:\n",
      " {\"plan\":[{\"step\":\"calculate\",\"expression\":\"879*11\"},{\"step\":\"translate\",\"text\":\"$LAST_RESULT\",\"target_language\":\"Hindi\"}]}\n",
      "\n",
      "DEBUG - Parsed plan:\n",
      "{\n",
      "  \"plan\": [\n",
      "    {\n",
      "      \"step\": \"calculate\",\n",
      "      \"expression\": \"879*11\"\n",
      "    },\n",
      "    {\n",
      "      \"step\": \"translate\",\n",
      "      \"text\": \"$LAST_RESULT\",\n",
      "      \"target_language\": \"Hindi\"\n",
      "    }\n",
      "  ]\n",
      "}\n",
      "\n",
      "STEP 1: CALCULATE  -> 879*11\n",
      "Result: 9669\n",
      "\n",
      "STEP 2: TRANSLATE -> '9669' to Hindi\n",
      "Translation: नौ हजार छह सौ उनहत्तर\n",
      "\n",
      "FINAL: नौ हजार छह सौ उनहत्तर\n"
     ]
    },
    {
     "data": {
      "text/plain": [
       "'नौ हजार छह सौ उनहत्तर'"
      ]
     },
     "execution_count": 14,
     "metadata": {},
     "output_type": "execute_result"
    }
   ],
   "source": [
    "print(\"\\n--- Test 1: Pure Math ---\")\n",
    "run_plan(\"879*11\")\n",
    "\n",
    "print(\"\\n--- Test 2: Translate only ---\")\n",
    "run_plan(\"Translate 'Good morning, team' to Hindi\")\n",
    "\n",
    "print(\"\\n--- Test 3: Combined (calculate → translate) ---\")\n",
    "run_plan(\"Translate the answer of 879*11 into Hindi\")\n"
   ]
  },
  {
   "cell_type": "code",
   "execution_count": null,
   "id": "44a7b08a",
   "metadata": {},
   "outputs": [],
   "source": []
  }
 ],
 "metadata": {
  "kernelspec": {
   "display_name": ".venv",
   "language": "python",
   "name": "python3"
  },
  "language_info": {
   "codemirror_mode": {
    "name": "ipython",
    "version": 3
   },
   "file_extension": ".py",
   "mimetype": "text/x-python",
   "name": "python",
   "nbconvert_exporter": "python",
   "pygments_lexer": "ipython3",
   "version": "3.13.7"
  }
 },
 "nbformat": 4,
 "nbformat_minor": 5
}
